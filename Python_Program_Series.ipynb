{
  "nbformat": 4,
  "nbformat_minor": 0,
  "metadata": {
    "colab": {
      "provenance": [],
      "authorship_tag": "ABX9TyMjNJ5syorxHn/8iMY+xmSZ",
      "include_colab_link": true
    },
    "kernelspec": {
      "name": "python3",
      "display_name": "Python 3"
    },
    "language_info": {
      "name": "python"
    }
  },
  "cells": [
    {
      "cell_type": "markdown",
      "metadata": {
        "id": "view-in-github",
        "colab_type": "text"
      },
      "source": [
        "<a href=\"https://colab.research.google.com/github/AkkiAT/AT/blob/main/Python_Program_Series.ipynb\" target=\"_parent\"><img src=\"https://colab.research.google.com/assets/colab-badge.svg\" alt=\"Open In Colab\"/></a>"
      ]
    },
    {
      "cell_type": "markdown",
      "source": [
        "# **Write a Code to check a string is a palindrome or not?**"
      ],
      "metadata": {
        "id": "WFCGRmJCvKg9"
      }
    },
    {
      "cell_type": "code",
      "execution_count": 4,
      "metadata": {
        "colab": {
          "base_uri": "https://localhost:8080/"
        },
        "id": "PbBBv_s4u3PK",
        "outputId": "062d0e0c-5d43-495b-d141-52df8d0ec345"
      },
      "outputs": [
        {
          "output_type": "stream",
          "name": "stdout",
          "text": [
            "Ajay\n",
            "No, string is not Palindrome\n"
          ]
        }
      ],
      "source": [
        "n = input()\n",
        "rev = ''\n",
        "for char in n:\n",
        "    rev = char + rev\n",
        "if n == rev:\n",
        "    print(\"Yes, string is Palindrome\")\n",
        "else:\n",
        "    print(\"No, string is not Palindrome\")"
      ]
    },
    {
      "cell_type": "markdown",
      "source": [
        "# **Encode & Decode String**"
      ],
      "metadata": {
        "id": "lu7VrSY38wwB"
      }
    },
    {
      "cell_type": "code",
      "source": [
        "alphabets = 'abcdefghijklmnopqrstvwxyz'\n",
        "encode= 'defg'\n",
        "decode=''\n",
        "for i in range(len(encode)):\n",
        "  decode +=alphabets[(alphabets.index(encode[i])-3)%26]\n",
        "  print(decode)"
      ],
      "metadata": {
        "colab": {
          "base_uri": "https://localhost:8080/"
        },
        "id": "_gT6v6qk8WHt",
        "outputId": "c1fcbe5f-808a-4fda-a976-73e57d2fedd7"
      },
      "execution_count": 6,
      "outputs": [
        {
          "output_type": "stream",
          "name": "stdout",
          "text": [
            "a\n",
            "ab\n",
            "abc\n",
            "abcd\n"
          ]
        }
      ]
    },
    {
      "cell_type": "markdown",
      "source": [
        "# **Find vowels in strings.**"
      ],
      "metadata": {
        "id": "gJXX4Msh_RYA"
      }
    },
    {
      "cell_type": "code",
      "source": [
        "input_val = input().lower()\n",
        "vowels = \"\"\n",
        "if \"a\" in input_val:\n",
        "  vowels += \"a\"\n",
        "if \"e\" in input_val:\n",
        "  vowels += \"e\"\n",
        "if \"i\" in input_val:\n",
        "  vowels += \"i\"\n",
        "if \"o\" in input_val:\n",
        "  vowels += \"o\"\n",
        "if \"u\" in input_val:\n",
        "  vowels += \"u\"\n",
        "print(vowels)\n"
      ],
      "metadata": {
        "colab": {
          "base_uri": "https://localhost:8080/"
        },
        "id": "MrhPt13I_a9W",
        "outputId": "b2d9c022-080a-496f-d0d1-b73949384385"
      },
      "execution_count": 8,
      "outputs": [
        {
          "output_type": "stream",
          "name": "stdout",
          "text": [
            "i love u\n",
            "eiou\n"
          ]
        }
      ]
    },
    {
      "cell_type": "markdown",
      "source": [
        "## **Write a code using while loop that adds all odd numbers from 1 to 50.**"
      ],
      "metadata": {
        "id": "HDRN66wJA2M8"
      }
    },
    {
      "cell_type": "code",
      "source": [
        "a = 1\n",
        "total = 0\n",
        "while a <=50:\n",
        "  if a % 2 != 0:\n",
        "    total += a\n",
        "  a += 1\n",
        "print(total)"
      ],
      "metadata": {
        "colab": {
          "base_uri": "https://localhost:8080/"
        },
        "id": "YzpuF5x2BFQg",
        "outputId": "d61e8979-f13f-4de8-f7ee-490ba2034c41"
      },
      "execution_count": 9,
      "outputs": [
        {
          "output_type": "stream",
          "name": "stdout",
          "text": [
            "625\n"
          ]
        }
      ]
    },
    {
      "cell_type": "markdown",
      "source": [
        "# **Write a program using while loop to print first 10 even numbers in reverse order.**"
      ],
      "metadata": {
        "id": "aWOWqGfYBwDy"
      }
    },
    {
      "cell_type": "code",
      "source": [
        "num = 20\n",
        "while num > 0:\n",
        "  print(num)\n",
        "  num = num -2\n",
        "  print(\"Done\")\n"
      ],
      "metadata": {
        "colab": {
          "base_uri": "https://localhost:8080/"
        },
        "id": "TxTmJHf9B8iG",
        "outputId": "178aab28-6a19-4c1f-ad51-31746d993642"
      },
      "execution_count": 10,
      "outputs": [
        {
          "output_type": "stream",
          "name": "stdout",
          "text": [
            "20\n",
            "Done\n",
            "18\n",
            "Done\n",
            "16\n",
            "Done\n",
            "14\n",
            "Done\n",
            "12\n",
            "Done\n",
            "10\n",
            "Done\n",
            "8\n",
            "Done\n",
            "6\n",
            "Done\n",
            "4\n",
            "Done\n",
            "2\n",
            "Done\n"
          ]
        }
      ]
    },
    {
      "cell_type": "markdown",
      "source": [
        "# **Write a python to validate the password based on the following conditions.**"
      ],
      "metadata": {
        "id": "npp4Oa87CdVl"
      }
    },
    {
      "cell_type": "markdown",
      "source": [
        "\n",
        "\n",
        "1.   It should be atleast 6 and atmost 30 character\n",
        "2.   It should start with uppercase\n",
        "3.   It can contain numbers\n",
        "4.   It can contain characters\n",
        "5.   It should not have the characters /, =, ', \", and spaces\n",
        "\n"
      ],
      "metadata": {
        "id": "82hBvJvuCrgs"
      }
    },
    {
      "cell_type": "code",
      "source": [
        "pwd = input()\n",
        "valid = False\n",
        "\n",
        "if 6 <= len(pwd) <= 30:\n",
        "  if 'A' <= pwd[0] <='Z':\n",
        "    if not('/' in pwd or '=' in pwd or \"'\" in pwd or '\\\"'in pwd or '' in pwd):\n",
        "      valid = True\n",
        "print(valid)"
      ],
      "metadata": {
        "colab": {
          "base_uri": "https://localhost:8080/"
        },
        "id": "5tdApFxMCpus",
        "outputId": "c27c9608-fd4a-42b6-d995-bab634131f77"
      },
      "execution_count": 11,
      "outputs": [
        {
          "output_type": "stream",
          "name": "stdout",
          "text": [
            "Rabinder&23\n",
            "False\n"
          ]
        }
      ]
    }
  ]
}